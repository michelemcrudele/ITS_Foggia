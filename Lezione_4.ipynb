{
 "cells": [
  {
   "cell_type": "markdown",
   "metadata": {},
   "source": [
    "---------------------------------------------------------------------------"
   ]
  },
  {
   "cell_type": "markdown",
   "metadata": {},
   "source": [
    "## Decorators\n",
    "\n",
    "Un decorator è una funzione che prende in input un’altra funzione e ne restituisce una versione “decorata”, cioè modificata o arricchita.\n",
    "\n",
    "È un modo elegante per aggiungere funzionalità senza cambiare il codice originale della funzione.\n",
    "\n",
    "\n",
    "\n",
    "**Concetto chiave**: Immagina di avere una funzione f(). Un decorator:\n",
    "- riceve f() come argomento\n",
    "- crea una nuova funzione (il \"wrapper\")\n",
    "- esegue codice prima e/o dopo aver chiamato f() \n",
    "- restituisce questa funzione modificata"
   ]
  },
  {
   "cell_type": "code",
   "execution_count": null,
   "metadata": {},
   "outputs": [],
   "source": [
    "def my_decorator(func): # my_decorator è la funzione decoratore; func è la funzione originale che vogliamo “decorare”.\n",
    "    def wrapper(): # wrapper è una nuova funzione interna che:\n",
    "        print(\"Ho letto la ricetta\") # Esegue qualcosa prima di chiamare la funzione originale (print iniziale)\n",
    "        func() # Chiama la funzione originale (func())\n",
    "        print(\"La torta è pronta!\") # Esegue qualcosa dopo (print finale)\n",
    "    return wrapper # my_decorator restituisce la funzione wrapper, non la chiama subito.\n",
    "\n",
    "def say_whee(): # funzione da decorare\n",
    "    print(\"Ho messo insieme gli ingredienti\")\n",
    "\n",
    "# Applichiamo manualmente il decorator\n",
    "say_whee = my_decorator(say_whee)\n",
    "say_whee()"
   ]
  },
  {
   "cell_type": "markdown",
   "metadata": {},
   "source": [
    "Python ci permette di applicare un decorator in modo più elegante, usando il simbolo @ sopra la definizione della funzione:"
   ]
  },
  {
   "cell_type": "code",
   "execution_count": null,
   "metadata": {},
   "outputs": [],
   "source": [
    "def my_decorator(func):\n",
    "    def wrapper():\n",
    "        print(\"Ho letto la ricetta\")\n",
    "        func()\n",
    "        print(\"La torta è pronta!\")\n",
    "    return wrapper\n",
    "\n",
    "@my_decorator\n",
    "def say_whee():\n",
    "    print(\"Ho messo insieme gli ingredienti\")\n",
    "\n",
    "say_whee()"
   ]
  },
  {
   "cell_type": "markdown",
   "metadata": {},
   "source": [
    "**Mini esercizio** \n",
    "\n",
    "Scrivi un decorator chiamato log_start_end che:\n",
    "\n",
    "- stampi \"Inizio esecuzione\" prima di chiamare la funzione\n",
    "\n",
    "- stampi \"Fine esecuzione\" dopo la funzione\n",
    "\n",
    "Testalo su una funzione hello() che stampa \"Ciao studenti!\"."
   ]
  },
  {
   "cell_type": "markdown",
   "metadata": {},
   "source": [
    "-----------------------------------------------------------------------------"
   ]
  },
  {
   "cell_type": "markdown",
   "metadata": {},
   "source": [
    "# Classes and Objects\n",
    "\n",
    "Python supporta pienamente la programmazione orientata agli oggetti (OOP), proprio come Java, C++ o altri linguaggi.\n",
    "\n",
    "L’idea base è modellare concetti come oggetti, con proprietà (variabili) e metodi (funzioni)."
   ]
  },
  {
   "cell_type": "markdown",
   "metadata": {},
   "source": [
    "## 🏠 Esempio\n",
    "\n",
    "1️⃣ *Classe* \n",
    "\n",
    "Una classe è come il progetto di una casa: \n",
    "- Descrive di che colore è la casa e/o quali stanze ci sono (attributi → variabili) \n",
    "- Descrive cosa si può fare in quella casa (metodi → funzioni) \n",
    "\n",
    "Ma finché hai solo il progetto, la casa non esiste davvero. Devi costruirla → ed è lì che nasce l’oggetto (o istanza della classe). \n",
    "\n",
    "2️⃣ *Oggetti* (istanze) \n",
    "\n",
    "Un oggetto è una “casa reale” costruita a partire dal progetto. \n",
    "Puoi avere più case (oggetti) che seguono lo stesso progetto (classe), ma con caratteristiche diverse."
   ]
  },
  {
   "cell_type": "code",
   "execution_count": null,
   "metadata": {},
   "outputs": [],
   "source": [
    "## 1️⃣ Definiamo la CLASSE (il progetto)\n",
    "\n",
    "class Casa:\n",
    "    # il costruttore: serve a “costruire” la casa con colore e numero di stanze \n",
    "    def __init__(self, colore, stanze):\n",
    "        self.colore = colore      # attributo\n",
    "        self.stanze = stanze      # attributo\n",
    "    \n",
    "    # metodi: azioni che la casa può fare\n",
    "    def descrivi(self):\n",
    "        print(f\"La casa è {self.colore} e ha {self.stanze} stanze.\")\n",
    "    \n",
    "    def apri_porta(self):\n",
    "        print(\"🚪 La porta si apre!\")\n",
    "\n",
    "\n",
    "# 2️⃣ Creiamo un OGGETTO (una casa reale)\n",
    "casa1 = Casa(\"rossa\", 3) # self -> diventa casa1\n",
    "casa2 = Casa(\"blu\", 5) # # self -> diventa casa2\n",
    "\n",
    "casa1.descrivi()\n",
    "casa2.descrivi()\n",
    "casa1.apri_porta()\n"
   ]
  },
  {
   "cell_type": "markdown",
   "metadata": {},
   "source": [
    "NB: *self* -->immagina che ogni casa (oggetto) abbia un “taccuino personale” con le sue informazioni (colore, stanze).\n",
    "Quando chiami descrivi(), self apre il taccuino di quella specifica casa e legge i dati da lì."
   ]
  },
  {
   "cell_type": "code",
   "execution_count": null,
   "metadata": {},
   "outputs": [],
   "source": [
    "# 3️⃣ Ereditarietà – una CASA SPECIALE: una casa speciale che eredita tutte le funzioni di Casa, ma aggiunge la piscina\n",
    "class Villa(Casa):\n",
    "    def __init__(self, colore, stanze, piscina):\n",
    "        Casa.__init__(self, colore, stanze)  # richiamo diretto del costruttore della classe base\n",
    "        self.piscina = piscina                # nuovo attributo della Villa\n",
    "    \n",
    "    def descrivi(self):\n",
    "        print(f\"La villa è {self.colore}, ha {self.stanze} stanze e una piscina: {self.piscina}.\")\n",
    "\n",
    "# Creazione oggetto Villa\n",
    "villa1 = Villa(\"bianca\", 7, True)\n",
    "villa1.descrivi()\n",
    "villa1.apri_porta()  # metodo ereditato da Casa"
   ]
  }
 ],
 "metadata": {
  "kernelspec": {
   "display_name": "Python 3",
   "language": "python",
   "name": "python3"
  },
  "language_info": {
   "codemirror_mode": {
    "name": "ipython",
    "version": 3
   },
   "file_extension": ".py",
   "mimetype": "text/x-python",
   "name": "python",
   "nbconvert_exporter": "python",
   "pygments_lexer": "ipython3",
   "version": "3.5.4"
  }
 },
 "nbformat": 4,
 "nbformat_minor": 2
}
