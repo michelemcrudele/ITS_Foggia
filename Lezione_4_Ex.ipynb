{
 "cells": [
  {
   "cell_type": "markdown",
   "metadata": {},
   "source": [
    "3\\. Scrivi un `decoratore` hello che faccia sì che ogni funzione weapped stampi \"Ciao!\", ovvero qualcosa del genere:\n",
    "\n",
    "```python\n",
    "@hello\n",
    "def square():\n",
    "    x = 5\n",
    "    print(x * x)\n",
    "```"
   ]
  },
  {
   "cell_type": "code",
   "execution_count": null,
   "metadata": {},
   "outputs": [],
   "source": [
    "def hello(func):\n",
    "    def wrapper():\n",
    "        print(\"Hello!\")\n",
    "        func()  # chiama la funzione originale\n",
    "    return wrapper\n",
    "\n",
    "@hello\n",
    "def square():\n",
    "    x = 5\n",
    "    print(x * x)\n",
    "\n",
    "square()\n"
   ]
  },
  {
   "cell_type": "markdown",
   "metadata": {},
   "source": [
    "----------------------------------------------------------------------"
   ]
  },
  {
   "cell_type": "markdown",
   "metadata": {},
   "source": [
    "Traccia 1 – Animali 🐾 \n",
    "1) Crea una classe Animale\n",
    "\n",
    "    - Attributi: nome, specie\n",
    "    - Metodo: parla() → stampa \"<nome> fa un verso.\"\n",
    "\n",
    "2) Crea due sottoclassi che ereditano da Animale:\n",
    "\n",
    "    - Cane: aggiungi un metodo abbaia() → stampa \"<nome> dice: Bau!\"\n",
    "    - Gatto: aggiungi un metodo miagola() → stampa \"<nome> dice: Miao!\"\n",
    "\n",
    "3) Crea oggetti per cane e gatto e fai chiamare sia il metodo parla() che i loro metodi specifici."
   ]
  },
  {
   "cell_type": "markdown",
   "metadata": {},
   "source": [
    "---------------------------------------------------------------------------------------------------------------------------------------"
   ]
  },
  {
   "cell_type": "markdown",
   "metadata": {},
   "source": [
    "6\\. Modifica la definizione della classe per aggiungere un attributo di istanza di is_hungry = True alla classe Dog. Quindi aggiungi un metodo chiamato eat() che modifica il valore di is_hungry in False quando viene chiamato. Trova il modo migliore per nutrire ogni cane e poi visualizza \"I miei cani hanno fame\" se tutti hanno fame o \"I miei cani non hanno fame\" se tutti non hanno fame. L'output finale dovrebbe essere simile a questo:\n",
    "\n",
    "`I have 3 dogs. \n",
    "Tom is 6. \n",
    "Fletcher is 7. \n",
    "Larry is 9. \n",
    "And they're all mammals, of course. \n",
    "My dogs are not hungry.\n",
    "`\n",
    "\n",
    "```python\n",
    "# Parent class\n",
    "class Dog:\n",
    "\n",
    "    # Class attribute\n",
    "    species = 'mammal'\n",
    "\n",
    "    # Initializer / Instance attributes\n",
    "    def __init__(self, name, age):\n",
    "        self.name = name\n",
    "        self.age = age\n",
    "\n",
    "    # instance method\n",
    "    def description(self):\n",
    "        return \"{} is {} years old\".format(self.name, self.age)\n",
    "\n",
    "    # instance method\n",
    "    def speak(self, sound):\n",
    "        return \"{} says {}\".format(self.name, sound)\n",
    "\n",
    "# Child class (inherits from Dog class)\n",
    "class RussellTerrier(Dog):\n",
    "    def run(self, speed):\n",
    "        return \"{} runs {}\".format(self.name, speed)\n",
    "\n",
    "# Child class (inherits from Dog class)\n",
    "class Bulldog(Dog):\n",
    "    def run(self, speed):\n",
    "        return \"{} runs {}\".format(self.name, speed)\n",
    "```"
   ]
  },
  {
   "cell_type": "code",
   "execution_count": null,
   "metadata": {},
   "outputs": [],
   "source": [
    "# Classe base\n",
    "class Dog:\n",
    "\n",
    "    # Attributo di classe\n",
    "    species = 'mammal'\n",
    "\n",
    "    # Inizializzatore / Attributi di istanza\n",
    "    def __init__(self, name, age):\n",
    "        self.name = name\n",
    "        self.age = age\n",
    "        self.is_hungry = True  # nuovo attributo\n",
    "\n",
    "    # Metodo di istanza\n",
    "    def description(self):\n",
    "        return \"{} is {} years old\".format(self.name, self.age)\n",
    "\n",
    "    # Metodo di istanza\n",
    "    def speak(self, sound):\n",
    "        return \"{} says {}\".format(self.name, sound)\n",
    "\n",
    "    # Nuovo metodo per sfamare il cane\n",
    "    def eat(self):\n",
    "        self.is_hungry = False\n",
    "\n",
    "\n",
    "# Classe figlia (eredita da Dog)\n",
    "class RussellTerrier(Dog):\n",
    "    def run(self, speed):\n",
    "        return \"{} runs {}\".format(self.name, speed)\n",
    "\n",
    "\n",
    "# Classe figlia (eredita da Dog)\n",
    "class Bulldog(Dog):\n",
    "    def run(self, speed):\n",
    "        return \"{} runs {}\".format(self.name, speed)\n",
    "\n",
    "\n",
    "# Creazione delle istanze dei cani\n",
    "tom = RussellTerrier(\"Tom\", 6)\n",
    "fletcher = Bulldog(\"Fletcher\", 7)\n",
    "larry = Dog(\"Larry\", 9)\n",
    "\n",
    "dogs = [tom, fletcher, larry]\n",
    "\n",
    "# Dare da mangiare a tutti i cani\n",
    "for dog in dogs:\n",
    "    dog.eat()\n",
    "\n",
    "# Stampare informazioni sui cani\n",
    "print(f\"I have {len(dogs)} dogs.\")\n",
    "for dog in dogs:\n",
    "    print(f\"{dog.name} is {dog.age}.\")\n",
    "print(f\"And they're all {Dog.species}s, of course.\")\n",
    "\n",
    "# Verificare se tutti i cani hanno fame\n",
    "if all(not dog.is_hungry for dog in dogs):\n",
    "    print(\"My dogs are not hungry.\")\n",
    "else:\n",
    "    print(\"My dogs are hungry.\")\n"
   ]
  }
 ],
 "metadata": {
  "kernelspec": {
   "display_name": "Python 3",
   "language": "python",
   "name": "python3"
  },
  "language_info": {
   "codemirror_mode": {
    "name": "ipython",
    "version": 3
   },
   "file_extension": ".py",
   "mimetype": "text/x-python",
   "name": "python",
   "nbconvert_exporter": "python",
   "pygments_lexer": "ipython3",
   "version": "3.13.1"
  }
 },
 "nbformat": 4,
 "nbformat_minor": 2
}
