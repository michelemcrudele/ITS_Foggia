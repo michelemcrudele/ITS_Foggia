{
 "cells": [
  {
   "cell_type": "markdown",
   "metadata": {},
   "source": [
    "# Lezione 1: primi passi"
   ]
  },
  {
   "cell_type": "markdown",
   "metadata": {},
   "source": [
    "# Teoria"
   ]
  },
  {
   "cell_type": "markdown",
   "metadata": {},
   "source": [
    "Questo jupyter notebook serve a fare da guida durante la lezione. La prima cosa che faremo sarà proprio provare il notebook. Come vedere è possibile usare un notebook per scrivere testo, formattandolo come più vi piace. Questo consente di creare un ambiente interattivo dove testo, grafici, formule, appunti e soprattuto codice funzionante coesistono. Uno strumento estremamente utile nell'ambito della data science, ma anche della semplice \"science\". "
   ]
  },
  {
   "cell_type": "markdown",
   "metadata": {},
   "source": [
    "## Formattazione in Markdown\n",
    "\n",
    "### Formattazione Base\n",
    "Questa è una cella di *markdown* e come vedete più ospitare del testo in diverse forma. In *corsivo* o in **grassetto**, inoltre consente di:\n",
    "* Fare\n",
    "* elenchi\n",
    "* puntati\n",
    "\n",
    "1. ma\n",
    "2. anche \n",
    "3. numerati"
   ]
  },
  {
   "cell_type": "markdown",
   "metadata": {},
   "source": [
    "### Titoli\n",
    "\n",
    "Potete organizzare il vostro testo in Titoli (guarda i titoli di questo stesso notebook) "
   ]
  },
  {
   "cell_type": "markdown",
   "metadata": {},
   "source": [
    "### Formule\n",
    "\n",
    "Potete usare una formattazione LaTex per le vostre formule, tipo $x_{1/2} = \\frac{-b \\pm \\sqrt{b^2-4ac}}{2a}$"
   ]
  },
  {
   "cell_type": "markdown",
   "metadata": {},
   "source": [
    "### Link\n",
    "\n",
    "Si possono anche mettere dei link a siti web esterni come ad esempio questo [link al vostro incubo per il prossimo mese](https://www.tensorflow.org/api_docs)"
   ]
  },
  {
   "cell_type": "markdown",
   "metadata": {},
   "source": [
    "### Immagini\n",
    "\n",
    "![Cann](cannocchiale.jpg)"
   ]
  },
  {
   "cell_type": "markdown",
   "metadata": {},
   "source": [
    "### Tabelle\n",
    "\n",
    "| Stretch/Untouched | ProbDistribution | Accuracy |\n",
    "| - | --- | --- |\n",
    "| Stretched | Gaussian | .843 |"
   ]
  },
  {
   "cell_type": "markdown",
   "metadata": {},
   "source": [
    "### HTML\n",
    "\n",
    "In una cella di markdown potete utilizzare del codice html che verrà formattato al volo!\n",
    "Ad esempio posso usare uno span per scrivere <span style='color:Blue'> quello che mi pare in blu </span> o <span style='font-family:Times New Roman'>quello che mi pare in Times New Roman</span>, oppure <span style='background :yellow'>quello che mi pare, ma evidenziato</span>.\n"
   ]
  },
  {
   "cell_type": "markdown",
   "metadata": {},
   "source": [
    "## Variabili"
   ]
  },
  {
   "cell_type": "markdown",
   "metadata": {},
   "source": [
    "### Cosa sono?\n",
    "\n",
    "Una variabile è un contenitore per i dati. Ovvero... parla\n",
    "\n",
    "Definire una variabile significa fare questa cosa:"
   ]
  },
  {
   "cell_type": "markdown",
   "metadata": {},
   "source": [
    "### Definizione di una Variabile"
   ]
  },
  {
   "cell_type": "code",
   "execution_count": null,
   "metadata": {},
   "outputs": [],
   "source": [
    "var = 3"
   ]
  },
  {
   "cell_type": "code",
   "execution_count": 7,
   "metadata": {},
   "outputs": [
    {
     "data": {
      "text/plain": [
       "float"
      ]
     },
     "execution_count": 7,
     "metadata": {},
     "output_type": "execute_result"
    }
   ],
   "source": [
    "type(var)"
   ]
  },
  {
   "cell_type": "markdown",
   "metadata": {},
   "source": [
    "Abbiamo appena definito una variabile con nome *var*, valore *3* e di tipo *intero*. Ciòc he caratterizza una variabile è proprio:\n",
    "* il nome\n",
    "* il valore\n",
    "* il tipo\n",
    "\n",
    "Il nome di una variabile può essere scelto in maniera abbastanza libera, a meno di 3 condizioni:\n",
    "1. Non deve MAI iniziare con un numero\n",
    "2. Non deve MAI contenere uno spazio\n",
    "3. Non deve essere una parola riservata in python\n",
    "\n",
    "Poi ci sono dei nomi che sono permessi, ma che sono sconsigliati, in quanto attireranno le ire dei vostri colleghi:\n",
    "* *MyVariable, i, t34, counter* sono tutti nomi fortemente scongliati perchè non danno l'idea di quello che la variabile fa\n",
    "* *Exchange_Rate, days_to_christmas, NomeLunghissimoCheSbaglieraiOgniVolta* sono nomi fortemente sconsigliati perchè troppo lunghi e complessi\n",
    "* *Adiòs_Se ñ ora, sûr_la_mer, Einbahnstraße, переменная* sono nomi fortemente sconsigliati perchè contengono caratteri speciali che non sono disponibili su tutte le tastiere di tutti i colleghi"
   ]
  },
  {
   "cell_type": "code",
   "execution_count": 10,
   "metadata": {},
   "outputs": [
    {
     "name": "stdout",
     "output_type": "stream",
     "text": [
      "2\n"
     ]
    },
    {
     "data": {
      "text/plain": [
       "str"
      ]
     },
     "execution_count": 10,
     "metadata": {},
     "output_type": "execute_result"
    }
   ],
   "source": [
    "# questo è un commento\n",
    "\n",
    "variable = \"2\" # qui ho definito una variabile\n",
    "print(variable)\n",
    "type(variable)"
   ]
  },
  {
   "cell_type": "code",
   "execution_count": 18,
   "metadata": {},
   "outputs": [
    {
     "name": "stdout",
     "output_type": "stream",
     "text": [
      "2\n",
      "5\n"
     ]
    }
   ],
   "source": [
    "a = 2\n",
    "print(a)\n",
    "b = a + 3\n",
    "print(b)"
   ]
  },
  {
   "cell_type": "markdown",
   "metadata": {},
   "source": [
    "the function `print` allows also more powerful way of outputting numbers:"
   ]
  },
  {
   "cell_type": "code",
   "execution_count": 29,
   "metadata": {},
   "outputs": [
    {
     "name": "stdout",
     "output_type": "stream",
     "text": [
      "il mio compleanno è il: 10 antonio è nato il 5\n"
     ]
    }
   ],
   "source": [
    "a = 10\n",
    "giorno = \"il mio compleanno è il:\"\n",
    "print(giorno, a, \"antonio è nato il\", b)"
   ]
  },
  {
   "cell_type": "code",
   "execution_count": 51,
   "metadata": {},
   "outputs": [
    {
     "name": "stdout",
     "output_type": "stream",
     "text": [
      "Art:   453, Prince per unit:       59.1\n"
     ]
    }
   ],
   "source": [
    "print (\"Art: %5d, Prince per unit: %10.1f\" %(453, 59.058))"
   ]
  },
  {
   "cell_type": "code",
   "execution_count": 61,
   "metadata": {},
   "outputs": [
    {
     "name": "stdout",
     "output_type": "stream",
     "text": [
      "5 pippo\n"
     ]
    }
   ],
   "source": [
    "a, b = 5, \"pippo\" # un modo per assegnare valori a due variabili in una sola riga\n",
    "print (a,b)"
   ]
  },
  {
   "cell_type": "markdown",
   "metadata": {},
   "source": [
    "try to sum a and b; if it doesn't work, cast one of the two and repeat"
   ]
  },
  {
   "cell_type": "code",
   "execution_count": 63,
   "metadata": {},
   "outputs": [
    {
     "data": {
      "text/plain": [
       "'5 pippo'"
      ]
     },
     "execution_count": 63,
     "metadata": {},
     "output_type": "execute_result"
    }
   ],
   "source": [
    "str(a)+\" \"+b"
   ]
  },
  {
   "cell_type": "code",
   "execution_count": 65,
   "metadata": {},
   "outputs": [
    {
     "name": "stdout",
     "output_type": "stream",
     "text": [
      "7 7 7\n"
     ]
    }
   ],
   "source": [
    "x=y=z=7 # multiple assignmet\n",
    "print (x,y,z)"
   ]
  },
  {
   "cell_type": "markdown",
   "metadata": {},
   "source": [
    "what if you reassign one of the three (say $y$)?"
   ]
  },
  {
   "cell_type": "code",
   "execution_count": 66,
   "metadata": {},
   "outputs": [
    {
     "name": "stdout",
     "output_type": "stream",
     "text": [
      "3\n",
      "7\n",
      "7\n"
     ]
    }
   ],
   "source": [
    "x = 3\n",
    "print(x)\n",
    "print(y)\n",
    "print(z)"
   ]
  },
  {
   "cell_type": "code",
   "execution_count": 133,
   "metadata": {},
   "outputs": [
    {
     "name": "stdout",
     "output_type": "stream",
     "text": [
      "33\n"
     ]
    }
   ],
   "source": [
    "# can set values from command line as well (rarely used)\n",
    "x = input(\"set the value of x\")\n",
    "print (x)"
   ]
  },
  {
   "cell_type": "markdown",
   "metadata": {},
   "source": [
    "### Tipi di Dati"
   ]
  },
  {
   "cell_type": "markdown",
   "metadata": {},
   "source": [
    "Il tipo di una variabile definisce tutta la serie di operazioni disponibili di default per quella variabile. Ci sono numerosi tipi predefiniti e una infinità di tipi personalizzati, che possono venire dai vari pacchetti ed estensioni, o possono addirittura essere creati da voi!\n",
    "\n",
    "In particolare:\n",
    "* str  -> stringa di testo \n",
    "* int -> numero intero \n",
    "* float -> numero decimale\n",
    "* list -> elenco modificabile di elementi\n",
    "* tuple -> elenco immodificabile di elementi\n",
    "* dictionary -> elenco di coppie “nome” – “valore”\n",
    "* set -> Elenco di elementi non ripetuti\n",
    "* bool -> Numero intero che può solo essere 0 o 1 (Falso o Vero)\n",
    "* None -> Niente\n",
    "* ... -> Il vostro personalissimo tipo\n"
   ]
  },
  {
   "cell_type": "markdown",
   "metadata": {},
   "source": [
    "Passare da un tipo all'altro --> \"casting\""
   ]
  },
  {
   "cell_type": "code",
   "execution_count": null,
   "metadata": {},
   "outputs": [],
   "source": [
    "stringa = \"1\"\n",
    "\n",
    "uno = int(stringa)"
   ]
  },
  {
   "cell_type": "code",
   "execution_count": 71,
   "metadata": {},
   "outputs": [
    {
     "data": {
      "text/plain": [
       "5"
      ]
     },
     "execution_count": 71,
     "metadata": {},
     "output_type": "execute_result"
    }
   ],
   "source": [
    "uno + 4"
   ]
  },
  {
   "cell_type": "markdown",
   "metadata": {},
   "source": [
    "## Operazioni"
   ]
  },
  {
   "cell_type": "markdown",
   "metadata": {},
   "source": [
    "### Operatori Aritmetici"
   ]
  },
  {
   "cell_type": "code",
   "execution_count": 92,
   "metadata": {},
   "outputs": [
    {
     "data": {
      "text/plain": [
       "64"
      ]
     },
     "execution_count": 92,
     "metadata": {},
     "output_type": "execute_result"
    }
   ],
   "source": [
    "a = 4\n",
    "b = 3\n",
    "a**b"
   ]
  },
  {
   "cell_type": "markdown",
   "metadata": {},
   "source": [
    "Questo genere di operatori si possono utilizzare su diversi tipi di variaibli e sortiscono effetti diversi ogni volta:\n",
    "\n",
    "* Operatore +:\n",
    "* * Può essere usato per sommare due interi, producendo un intero\n",
    "* * Può essere usato per sommare un intero e un float, producendo un float\n",
    "* * Può essere usato per sommare due float, producendo un float\n",
    "* * Può essere usato per sommare due stringhe formando la concatenazione di quelle stringhe\n",
    "* Operatore -\n",
    "* * Può essere usato per sottrarre due interi, producendo un intero\n",
    "* * Può essere usato per sottrarre un intero e un float (o viceversa), producendo un float\n",
    "* * Può essere usato per sottrarre due float, producendo un float\n",
    "* * Può essere usato per sottrarre due stringhe producendo ERRORE!\n",
    "* Operatore *\n",
    "* * Può essere usato per moltiplicare due interi, producendo un intero\n",
    "* * Può essere usato per moltiplicare un intero a un float (e viceversa), producendo un float\n",
    "* * Può essere usato per moltiplicare due float, producendo un float\n",
    "* * Può essere usato per moltiplicare una stringa per un numero producendo una stringa ripetizione\n",
    "* Operatore /\n",
    "* * Può essere usato per dividere due interi, producendo un float\n",
    "* * Può essere usato per dividere un intero e un float (e viceversa), producendo un float\n",
    "* * Può essere usato per dividere due float, producendo un float\n",
    "* * Può essere usato per dividere una stringa per un numero producendo ERRORE!\n",
    "* * Non esiste la divisione per 0\n",
    "* Operatore //\n",
    "* * Può essere usato per dividere due interi, producendo un intero\n",
    "* * Può essere usato per dividere due float, producendo un float arrotondato all'intero più basso\n",
    "* * Può essere usato per dividere una stringa per un numero producendo ERRORE!\n",
    "* * Non esiste la divisione per 0\n",
    "* Operatore %\n",
    "* * Può essere usato per trovare il resto della divisione tra due interi, producendo un intero\n",
    "* * Può essere usato per trovare il resto della divisione tra due float, producendo un float\n",
    "* * Non esiste la divisione per 0\n",
    "* Operatore **\n",
    "* * Può essere usato per elevare un interno ad un intero, producendo un intero\n",
    "* * Può essere usato per elevare un interno ad un float, producendo un float\n",
    "* * Può essere usato per dividere una stringa per un numero producendo ERRORE!\n",
    "* * Ricordate che qualsiasi numero elevato a 0 produce 1"
   ]
  },
  {
   "cell_type": "markdown",
   "metadata": {},
   "source": [
    "### Ordine delle Operazioni"
   ]
  },
  {
   "cell_type": "markdown",
   "metadata": {},
   "source": [
    "Le operazioni vengono fatte in un certo ordine che è quello che si vede in 5 elementare.\n",
    "Ovvero:\n",
    "1. Parentesi\n",
    "2. Potenze\n",
    "3. Moltiplicazioni/Divisioni (incluse divisioni intere e modulo)\n",
    "4. Somme/Differenze\n",
    "\n",
    "Se due operazioni hanno pari priorità, si considera quella più a sinistra TRANNE nel caso della potenza!"
   ]
  },
  {
   "cell_type": "code",
   "execution_count": 93,
   "metadata": {},
   "outputs": [
    {
     "data": {
      "text/plain": [
       "67"
      ]
     },
     "execution_count": 93,
     "metadata": {},
     "output_type": "execute_result"
    }
   ],
   "source": [
    "3+2*2**2*(3+5)"
   ]
  },
  {
   "cell_type": "code",
   "execution_count": 107,
   "metadata": {},
   "outputs": [
    {
     "name": "stdout",
     "output_type": "stream",
     "text": [
      "0.75\n",
      "0.75\n",
      "3\n",
      "0\n",
      "81\n",
      "81\n",
      "<class 'int'>\n",
      "<class 'float'>\n",
      "0.75\n"
     ]
    },
    {
     "ename": "TypeError",
     "evalue": "'int' object is not callable",
     "output_type": "error",
     "traceback": [
      "\u001b[0;31m---------------------------------------------------------------------------\u001b[0m",
      "\u001b[0;31mTypeError\u001b[0m                                 Traceback (most recent call last)",
      "Cell \u001b[0;32mIn[107], line 14\u001b[0m\n\u001b[1;32m     12\u001b[0m a, b \u001b[38;5;241m=\u001b[39m \u001b[38;5;241m3\u001b[39m, \u001b[38;5;241m4\u001b[39m\n\u001b[1;32m     13\u001b[0m \u001b[38;5;28mprint\u001b[39m(a\u001b[38;5;241m/\u001b[39mb)\n\u001b[0;32m---> 14\u001b[0m a \u001b[38;5;241m=\u001b[39m \u001b[38;5;28;43mfloat\u001b[39;49m\u001b[43m(\u001b[49m\u001b[43ma\u001b[49m\u001b[43m)\u001b[49m\n\u001b[1;32m     15\u001b[0m \u001b[38;5;28mprint\u001b[39m(a\u001b[38;5;241m/\u001b[39mb)\n",
      "\u001b[0;31mTypeError\u001b[0m: 'int' object is not callable"
     ]
    }
   ],
   "source": [
    "print(3/4)\n",
    "print(3.0 / 4.0)\n",
    "print(3%4)\n",
    "print(3//4)\n",
    "print(3**4)\n",
    "print(pow(3,4))\n",
    "\n",
    "x=1\n",
    "print(type(x))\n",
    "y=1.0\n",
    "print(type(y))\n",
    "a, b = 3, 4\n",
    "print(a/b)\n",
    "a = float(a)\n",
    "print(a/b)"
   ]
  },
  {
   "cell_type": "markdown",
   "metadata": {},
   "source": [
    "### Operatori Logici"
   ]
  },
  {
   "cell_type": "markdown",
   "metadata": {},
   "source": [
    "Servono a testare delle condizioni, ovvero a rispondere a delle domande del tipo \"Vero o Falso\" \n",
    "\n",
    "Abbiamo:\n",
    "* < Risponde alla domanda: l'oggetto a sinistra sia minore di quello a destra?\n",
    "* \\> Risponde alla domanda: l'oggetto a sinistra sia maggiore di quello a destra\n",
    "* == Risponde alla domanda: l'oggetto a sinistra è uguale a quello a destra?\n",
    "* != Risponde alla domanda: l'oggetto a sinsitra è diverso da quello a destra?\n",
    "* <= Risponde alla domanda: l'oggetto a sinistra sia minore o uguale di quello a destra?\n",
    "* \\>= Risponde alla domanda: l'oggetto a sinistra sia maggiore o uguale di quello a destra"
   ]
  },
  {
   "cell_type": "code",
   "execution_count": 110,
   "metadata": {},
   "outputs": [
    {
     "data": {
      "text/plain": [
       "True"
      ]
     },
     "execution_count": 110,
     "metadata": {},
     "output_type": "execute_result"
    }
   ],
   "source": [
    "a = 3\n",
    "a = 4\n",
    "a == 4"
   ]
  },
  {
   "cell_type": "code",
   "execution_count": 117,
   "metadata": {},
   "outputs": [],
   "source": [
    "a = \"2\""
   ]
  },
  {
   "cell_type": "code",
   "execution_count": 119,
   "metadata": {},
   "outputs": [
    {
     "data": {
      "text/plain": [
       "False"
      ]
     },
     "execution_count": 119,
     "metadata": {},
     "output_type": "execute_result"
    }
   ],
   "source": [
    "a == \"2 \""
   ]
  },
  {
   "cell_type": "markdown",
   "metadata": {},
   "source": [
    "Possiamo anche effettuare dell'aritmetica con le operazioni logiche, in particolare, introduciamo 3 operazioni:\n",
    "* **and** valuta due espressioni logiche e restituisce True solo se **ENTRAMBE** le espressioni logiche sono vere e restituisce False se **ALMENO** una delle due espressioni è falsa;\n",
    "* **or** valuta due espressioni logiche e restituisce True se **ALMENO** una delle due è vere ed restituisce False solo se **ENTRAMBE** le espressioni sono false;\n",
    "* **not** serve semplicemente a negare l'espressione logica che segue, quindi restituisce True se l'espressione che viene dopo è falsa e False se l'espressione che segue è True\n",
    "* **in** se si trova dentro"
   ]
  },
  {
   "cell_type": "code",
   "execution_count": 129,
   "metadata": {},
   "outputs": [
    {
     "data": {
      "text/plain": [
       "False"
      ]
     },
     "execution_count": 129,
     "metadata": {},
     "output_type": "execute_result"
    }
   ],
   "source": [
    "a = 3\n",
    "b = 4\n",
    "c = 3\n",
    "a != c"
   ]
  },
  {
   "cell_type": "code",
   "execution_count": 132,
   "metadata": {},
   "outputs": [
    {
     "data": {
      "text/plain": [
       "False"
      ]
     },
     "execution_count": 132,
     "metadata": {},
     "output_type": "execute_result"
    }
   ],
   "source": [
    "(2==2 or 5==5) and 3==\"a\""
   ]
  },
  {
   "cell_type": "markdown",
   "metadata": {},
   "source": [
    "## Condizionali (Conditional Statements)"
   ]
  },
  {
   "cell_type": "markdown",
   "metadata": {},
   "source": [
    "Le condizioni servono a eseguire del codice sulla base di cosa sta succedendo, cioè in base alle condizioni esterne.\n",
    "\n",
    "Possiamo avere una condizione normale"
   ]
  },
  {
   "cell_type": "markdown",
   "metadata": {},
   "source": [
    "## Attenti all'indentazione! "
   ]
  },
  {
   "cell_type": "code",
   "execution_count": 135,
   "metadata": {},
   "outputs": [
    {
     "name": "stdout",
     "output_type": "stream",
     "text": [
      "else\n"
     ]
    }
   ],
   "source": [
    "a = 21\n",
    "if a >= 22: \n",
    "    print(\"if\")\n",
    "elif a > 21:\n",
    "    print(\"elif\")\n",
    "else:\n",
    "    print(\"else\")"
   ]
  },
  {
   "cell_type": "code",
   "execution_count": 141,
   "metadata": {},
   "outputs": [
    {
     "name": "stdout",
     "output_type": "stream",
     "text": [
      "passeggiata\n"
     ]
    }
   ],
   "source": [
    "tempo = \"brutto\"\n",
    "\n",
    "if tempo == \"brutto\":\n",
    "    attivita = \"passeggiata\"\n",
    "else:\n",
    "    attivita = \"cinema\"\n",
    "\n",
    "print(attivita)\n",
    "\n",
    "\n",
    "dopo = \"cena\""
   ]
  },
  {
   "cell_type": "markdown",
   "metadata": {},
   "source": [
    "try/except: a very important and powerful type of conditional expression, use it and use it with care "
   ]
  },
  {
   "cell_type": "code",
   "execution_count": 145,
   "metadata": {},
   "outputs": [
    {
     "name": "stdout",
     "output_type": "stream",
     "text": [
      "pippo is not a number\n"
     ]
    }
   ],
   "source": [
    "a = \"pippo\"\n",
    "try:\n",
    "  b = a + 2\n",
    "  print (b)\n",
    "except:\n",
    "  print(a, \"is not a number\")"
   ]
  },
  {
   "cell_type": "code",
   "execution_count": 150,
   "metadata": {},
   "outputs": [
    {
     "name": "stdout",
     "output_type": "stream",
     "text": [
      "Andiamo a passeggiata  e poi a cena\n"
     ]
    }
   ],
   "source": [
    "print(\"Andiamo a \" + attivita, \" e poi a \" + dopo)"
   ]
  },
  {
   "cell_type": "markdown",
   "metadata": {},
   "source": [
    "Possiamo creare degli if annidati per tenere conto di diverse condizioni"
   ]
  },
  {
   "cell_type": "code",
   "execution_count": 153,
   "metadata": {},
   "outputs": [],
   "source": [
    "tempo = \"brutto\"\n",
    "ristorante = \"aperto\"\n",
    "biglietti = \"disponibili\"\n",
    "\n",
    "if tempo == \"bello\":\n",
    "    if ristorante == \"aperto\":\n",
    "        attivita = \"Ristorante\"\n",
    "    else:\n",
    "        attivita = \"By Pino\"\n",
    "else:\n",
    "    if biglietti == \"disponibili\":\n",
    "        attivita = \"cinema\"\n",
    "    else:\n",
    "        attivita = \"centro commerciale\""
   ]
  },
  {
   "cell_type": "code",
   "execution_count": 154,
   "metadata": {},
   "outputs": [
    {
     "data": {
      "text/plain": [
       "'cinema'"
      ]
     },
     "execution_count": 154,
     "metadata": {},
     "output_type": "execute_result"
    }
   ],
   "source": [
    "attivita"
   ]
  },
  {
   "cell_type": "markdown",
   "metadata": {},
   "source": [
    "Condizioni multiple usando elif"
   ]
  },
  {
   "cell_type": "code",
   "execution_count": 162,
   "metadata": {},
   "outputs": [
    {
     "data": {
      "text/plain": [
       "'Call of Duty'"
      ]
     },
     "execution_count": 162,
     "metadata": {},
     "output_type": "execute_result"
    }
   ],
   "source": [
    "tempo = \"brutto\"\n",
    "biglietti = \"indisponibili\"\n",
    "ristorante = \"chiuso\"\n",
    "\n",
    "if tempo == \"bello\":\n",
    "    attivita = \"passeggiata\"\n",
    "elif biglietti == \"disponibili\":\n",
    "    attivita = \"cinema\"\n",
    "elif ristorante == \"aperto\":\n",
    "    attività = \"cena al ristorante\"\n",
    "else:\n",
    "    attività = \"Call of Duty\"\n",
    "\n",
    "attività"
   ]
  },
  {
   "cell_type": "markdown",
   "metadata": {},
   "source": [
    "## Loops"
   ]
  },
  {
   "cell_type": "markdown",
   "metadata": {},
   "source": [
    "Sono un altro strumento a disposizione del programmatore python, che servono ad evitare di scrivere più volte il codice nelc aso di operazioni fatte più di una volta. Per provare facciamo la somma di due numeri da chiedere in input, poi vediamo cosa succede se sono 5, poi vediamo cosa succede se sono 10, e poi vediamo cosa succede se sono 100"
   ]
  },
  {
   "cell_type": "code",
   "execution_count": null,
   "metadata": {},
   "outputs": [],
   "source": [
    "numero_1 = input(\"Dammi il primo numero\")\n",
    "numero_2 = input(\"Dammi il secondo numero\")\n",
    "numero_3 = input(\"Dammi il terzo numero\")\n",
    "numero_4 = input(\"Dammi il quarto numero\")\n",
    "numero_5 = input(\"Dammi il quinto numero\")\n",
    "s = int(numero_1) + int(numero_2) + int(numero_3) + int(numero_4) + int(numero_5)\n",
    "print(s)"
   ]
  },
  {
   "cell_type": "markdown",
   "metadata": {},
   "source": [
    "Un modo più semplice \n",
    "\n",
    "Scriviamo un ciclo *while*. \n",
    "* Questo costrutto consente di eseguire operazioni ripetute fin tanto che una condizione è verificata\n",
    "* Attenzione alle condizioni di uscita"
   ]
  },
  {
   "cell_type": "code",
   "execution_count": null,
   "metadata": {},
   "outputs": [],
   "source": [
    "numero_di_numeri = 10\n",
    "contatore = 0\n",
    "s = 0\n",
    "while contatore < numero_di_numeri:\n",
    "    print(\"Siamo al giro n.\" + str(contatore+1))\n",
    "    n = 3 #input(\"Dammi il prossimo numero\")\n",
    "    s += int(n)\n",
    "    print(\"Ora come ora, s è \" + str(s))\n",
    "    contatore+=1"
   ]
  },
  {
   "cell_type": "markdown",
   "metadata": {},
   "source": [
    "### Il ciclo for"
   ]
  },
  {
   "cell_type": "markdown",
   "metadata": {},
   "source": [
    "* consente di analizzare grosse collezioni di dati (esempio con range e esempio con string)\n",
    "* non ha bisogno di condizioni di uscita "
   ]
  },
  {
   "cell_type": "code",
   "execution_count": null,
   "metadata": {},
   "outputs": [],
   "source": [
    "numero_di_numeri = 10\n",
    "s = 0\n",
    "for i in range(numero_di_numeri):\n",
    "    print(\"Siamo al giro n.\" + str(i+1))\n",
    "    n = input(\"Dammi il prossimo numero\")\n",
    "    s += int(n)\n",
    "    print(\"Ora come ora, s è \" + str(s))"
   ]
  },
  {
   "cell_type": "markdown",
   "metadata": {},
   "source": [
    "### break e continue"
   ]
  },
  {
   "cell_type": "markdown",
   "metadata": {},
   "source": [
    "In tutti i casi, si può interrompere un ciclo con:\n",
    "* continue per fargli saltare il giro\n",
    "* break per uscire completamente dal ciclo "
   ]
  },
  {
   "cell_type": "markdown",
   "metadata": {},
   "source": [
    "Sempre sulla somma, se s raggiunge un certo limite, interrompi il ciclo"
   ]
  },
  {
   "cell_type": "code",
   "execution_count": null,
   "metadata": {},
   "outputs": [],
   "source": [
    "numero_di_numeri = 10\n",
    "s = 0\n",
    "for i in range(numero_di_numeri):\n",
    "    print(\"Siamo al giro n.\" + str(i+1))\n",
    "    if s >= 18:\n",
    "        continue\n",
    "    n = 3 #input(\"Dammi il prossimo numero\")\n",
    "    s += int(n)\n",
    "    print(\"Ora come ora, s è \" + str(s))"
   ]
  },
  {
   "cell_type": "markdown",
   "metadata": {},
   "source": [
    "# Esercizi"
   ]
  },
  {
   "cell_type": "markdown",
   "metadata": {},
   "source": [
    "## Esercizi sulla formattazione del testo in una cella di markdown\n",
    "\n",
    "1. Scrivi il tuo nome in grassetto\n",
    "2. Scrivi il nome del tuo animale preferito in corsivo\n",
    "3. Scrivi una frase che contenga una parola in grassetto e una in corsivo\n",
    "4. Crea un elenco puntato di 5 cose che ti piacciono\n",
    "5. Scrivi un elenco numerato delle città/luoghi che vorresti visitare in ordine di preferenza\n",
    "6. Scrivi un titolo di livello 1 un titolo di livello 2 e un titolo di livello 3\n",
    "7. Inserisci un link ad un sito web a tuo piacimento \n",
    "8. Carica un'immagine dal tuo pc\n",
    "9. Crea una tabella con due righe e due colonne\n",
    "10. Scrivi un breve testo o citazione e formattala con grassetto, corsivo, titoli e un link.\n",
    "11. Crea un elenco puntato di cose di cui la seconda contiene a sua volta un elenco puntato"
   ]
  },
  {
   "cell_type": "markdown",
   "metadata": {},
   "source": [
    "## Esercizi su Variabili e Operatori Matematici"
   ]
  },
  {
   "cell_type": "markdown",
   "metadata": {},
   "source": [
    "1. In una cella di un notebook, scrivi un codice che chieda all'utente due numeri e restituisca la somma e il prodotto di quei due numeri\n",
    "2. In una cella di un notebook, scrivi un codice che calcoli l'area di un rettangolo, dopo aver chiesto le misure di base e altezza all'utente\n",
    "3. In una cella di un notebook, scrivi un codice che chieda due numeri all'utente e faccia somma, sottrazione, moltiplicazione e divisione e restituisca i risultati in output. Attenzione alle caratteristiche degli operatori!\n",
    "4. In una cella di un notebook, scrivi un codice che chieda all'utente una temperatura in gradi Celsius e restituisca la temperatura in gradi Farenheit\n",
    "\n",
    "la formula è : $F = C \\cdot \\frac{9}{5} + 32$\n",
    "\n",
    "Dove F è il risultato e C è la temperatura in Celsius\n",
    "\n",
    "5. In una cella di un notebook, scrivi un codice che calcola il prezzo di un prodotto IVA inclusa. L'utente inserisce il prezzo netto e l'aliquota IVA e il programma restituisce il prezzo con l'IVA.\n",
    "\n",
    "la formula è $P_{iva} = P_{netto}(1+\\frac{IVA}{100})$\n",
    "\n",
    "Dove $P_{iva}$ è il risultato, $P_{netto}$ è il prezzo pulito e IVA è l'aliquota IVA\n",
    "\n",
    "6. In una cella di un notebook, scrivi un codice che scambia il valore di due variabili date in input (ad esempio prende a = 3 e b = 4 in input e restituisce a = 4 e b = 3 in output)\n",
    "\n",
    "7. In una cella di un notebook, scrivi un codice che chieda 3 numeri in input, ne faccia la media aritmentica e restituisca il risultato in output.\n",
    "\n",
    "formula $m = \\frac{n1+n2+n3}{3}$\n",
    "\n",
    "8. In una cella di un notebook, scrivi un codice che calcoli e visualizzi l'interesse semplice di una somma. Sia la somma che il tasso di interesse che la durata del prestito dovranno essere chiesti all'utente.\n",
    "\n",
    "formula $M = C (1+r \\cdot t)$\n",
    "\n",
    "Dove M è il risultato, C è il capitale, r è il tasso di interesse e t è la durata del prestito in anni\n",
    "\n",
    "9. In una cella di un notebook, scrivi un codice che calcoli e visualizzi l'area di un cerchio il cui raggio deve essere fornito dall'utente. Non insulterò ulteriormente la vostra intelligenza scrivendovi la formula dell'area del cerchio. Trovare un modo per inserire il valore preciso (per quanto possibile per la macchina) di $\\pi$\n",
    "\n",
    "10. In una cella di un notebook, scrivi un codice che calcoli e visualizzi il perimetro di un triangolo i cui lati vengono dati in input dall'utente\n",
    "\n",
    "## Esercizi su Logica e Condizioni\n",
    "\n",
    "1. In una cella di un notebook, verifica se un numero inserito dall'utente è pari o dispari.\n",
    "2. In una cella di un notebook, scrivi un programma che confronti due numeri e restituisca il maggiore\n",
    "3. In una cella di un notebook, determina se un numero è positivo, negativo o zero.\n",
    "4. In una cella di un notebook, verifica se un anno inserito dall'utente è bisestile.\n",
    "5. In una cella di un notebook, trova il massimo tra tre numeri inseriti dall'utente.\n",
    "6. In una cella di un notebook, dato un numero da 1 a 7, restituisca il corrispondente giorno della settimana.\n",
    "7. In una cella di un notebook, converti un voto numerico (da 1 a 10) in un voto in lettere (es. \"insufficiente\", \"sufficiente\", \"buono\", sentiti libero di inventarti giudizi più o meno ingiuriosi contro gli studenti).\n",
    "8. In una cella di un notebook, applica uno sconto del 10% se l'importo totale supera i 100 euro, l'importo deve essere fornito in input dall'utente.\n",
    "9. In una cella di un notebook, verifica se tre numeri dati dall'utente possono rappresentare i lati di un triangolo equilatero. (Ricorda che nessuno dei lati di un triangolo equilatero può essere maggiore o uguale degli altri due)\n",
    "10. In una cella di un notebook, verifica che tre numeri dati dall'utente, possano essere rispettivamente un giorno, mese e anno di una data valida.\n",
    "\n",
    "## Esercizi su tutto\n",
    "\n",
    "1. In una cella di un notebook, dai in output tutti i numeri da 1 a 10. Poi tutti quelli da 1 a 100.\n",
    "2. In una cella di un notebook, calcola la somma dei primi n numeri naturali, dove n è inserito dall'utente. Se conosci la formula di Gauss sei un figo, spiegala ai tuoi colleghi e implementala. Bravo!\n",
    "3. In una cella di un notebook, stampa la tabellina di un numero inserito dall'utente.\n",
    "4. In una cella di un notebook, calcola il fattoriale di un numero. Ricorda: il fattoriale di n è il prodotto di tutti i numeri da 1 a n, quindi 10 fattoriale (si scrive 10!) è $10 \\cdot 9 \\cdot 8 \\cdot 7\\cdot 6\\cdot 5\\cdot 4\\cdot 3\\cdot 2\\cdot 1$\n",
    "5. In una cella di un notebook, stampa i primi n numeri della serie di Fibonacci. Ricorda: la serie di Fibonacci è una progressione numerica i cui primi elementi sono 1 e 2 e ogni elemento successivo è uguale alla somma dei due che lo precedono. Puoi cercare la serie di Fibonacci su wikipedia e perdere fino a 30 minuti ora per scoprire alcune delle sue implicazioni nel mondo naturale.\n",
    "6. In una cella di un notebook, verifica se un numero dato in input è primo. Ricorda, un numero è un numero primo se è divisibile solamente per 1 e per se stesso.\n",
    "7. In una cella di un notebook, conta il numero di vocali in una stringa inserita dall'utente.\n",
    "8. In una cella di un notebook, stampa un triangolo rettangolo di asterischi. Così, ma grande quanto un numero specificato dall'utente\n",
    "\n",
    "\\*\n",
    "\n",
    "\\**\n",
    "\n",
    "\\***\n",
    "\n",
    "\\****\n",
    "\n",
    "9. In una cella di un notebook, Stampa un rombo di asterischi di larghezza specificata dall'utente.\n",
    "\n",
    "  \\*  \n",
    "\n",
    " \\*** \n",
    "\n",
    "\\*****\n",
    "\n",
    " \\***\n",
    "\n",
    "  \\*  \n",
    "\n",
    "10. In una cella di un notebook, crea un gioco in cui decidi un numero e lo metti in una variabile e l'utente deve indovinarlo. Ad ogni tentativo dai all'utente un feedback dicendo se il numero obiettivo è maggiore o minore del numero dato.\n",
    "\n",
    "11. In una cella di un notebook, calcola la somma delle cifre di un numero intero dato in input.\n",
    "12. In una cella di un notebook, calcola il Massimo Comun Divisore (MCD) di due numeri dati in input.\n",
    "13. In una cella di un notebook,  Calcola il Minimo Comune Multiplo (mcm) di due numeri dati in input.\n",
    "14. In una cella di un notebook, Converti un numero dato da decimale in binario. Cerca online l'algoritmo per farlo, e poi implementalo in python\n",
    "15. In una cella di un notebook, Converti un numero binario dato in decimale. Cerca anche in questo caso l'algoritmo\n",
    "16. In una cella di un notebook, Scrivi un programma che chieda due numeri in input e verifichi se il primo numero è multiplo del secondo.\n",
    "17. Un numero è perfetto se è uguale alla somma dei suoi divisori (escluso il numero stesso). In una cella di un notebook, scrivi un programma che verifichi se un numero dato è perfetto.\n",
    "18. In una cella di un notebook, scrivi un programma che, dato in input un numero intero positivo, stampi la sequenza di Collatz. La sequenza si genera in questo modo: se il numero è pari, dividilo per 2; se è dispari, moltiplicalo per 3 e aggiungi 1. Continua fino a raggiungere 1.\n",
    "19. Due numeri sono amici se la somma dei divisori (escluso il numero stesso) del primo è uguale al secondo e viceversa. In una cella di un notebook, verifica se due numeri dati in input sono amici.\n",
    "20. In una cella di un notebook, stampa le prime n righe del triangolo di Tartaglia, dove n è dato in input. [Vedi qui per informazioni sul triangolo di Tartaglia](https://it.wikipedia.org/wiki/Triangolo_di_Tartaglia)\n",
    "21. In una cella di un notebook, scorri i numeri da 1 a 100, per i multipli di 3 stampa \"Fizz\", per i multipli di 5 stampa \"Buzz\" e per i multipli di entrambi stampa \"FizzBuzz\".\n"
   ]
  },
  {
   "cell_type": "markdown",
   "metadata": {},
   "source": []
  }
 ],
 "metadata": {
  "kernelspec": {
   "display_name": "Python 3",
   "language": "python",
   "name": "python3"
  },
  "language_info": {
   "codemirror_mode": {
    "name": "ipython",
    "version": 3
   },
   "file_extension": ".py",
   "mimetype": "text/x-python",
   "name": "python",
   "nbconvert_exporter": "python",
   "pygments_lexer": "ipython3",
   "version": "3.13.1"
  }
 },
 "nbformat": 4,
 "nbformat_minor": 2
}
